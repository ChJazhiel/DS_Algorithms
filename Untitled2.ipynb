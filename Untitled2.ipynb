{
  "nbformat": 4,
  "nbformat_minor": 0,
  "metadata": {
    "colab": {
      "name": "Untitled2.ipynb",
      "provenance": [],
      "authorship_tag": "ABX9TyOG4pcRQL9/9hLLIyqWUUx7",
      "include_colab_link": true
    },
    "kernelspec": {
      "name": "python3",
      "display_name": "Python 3"
    },
    "language_info": {
      "name": "python"
    },
    "accelerator": "GPU"
  },
  "cells": [
    {
      "cell_type": "markdown",
      "metadata": {
        "id": "view-in-github",
        "colab_type": "text"
      },
      "source": [
        "<a href=\"https://colab.research.google.com/github/ChJazhiel/DS_Algorithms/blob/master/Untitled2.ipynb\" target=\"_parent\"><img src=\"https://colab.research.google.com/assets/colab-badge.svg\" alt=\"Open In Colab\"/></a>"
      ]
    },
    {
      "cell_type": "code",
      "metadata": {
        "id": "PjQjBCxGRwYt"
      },
      "source": [
        "import numpy as np\n",
        "\n",
        "import matplotlib.pyplot as plt\n",
        "\n",
        "from keras.layers import Input, Conv2D, MaxPool2D, Dense, Flatten\n",
        "from keras.models import Model"
      ],
      "execution_count": 3,
      "outputs": []
    },
    {
      "cell_type": "code",
      "metadata": {
        "colab": {
          "base_uri": "https://localhost:8080/"
        },
        "id": "aPGH04KYSyrr",
        "outputId": "ed87238f-571d-4060-eb46-38dba1c8ba9a"
      },
      "source": [
        "input_img = Input(shape=(128,128,3))\n",
        "\n",
        "x = Conv2D(filters = 16, kernel_size=(3,3), strides=(1,1), activation='relu', padding='same', name = 'conv1') (input_img)\n",
        "x = MaxPool2D((2,2), padding='same', name = 'maxpool1') (x)\n",
        "\n",
        "x = Conv2D(filters = 32, kernel_size=(3,3), strides=(1,1), activation='relu', padding='same', name = 'conv2') (x)\n",
        "x = MaxPool2D((2,2), padding='same', name = 'maxpool2') (x)\n",
        "\n",
        "x = Conv2D(filters = 64, kernel_size=(3,3), strides=(1,1), activation='relu', padding='same', name = 'conv3') (x) #(input_img)\n",
        "x = MaxPool2D((2,2), padding='same', name = 'maxpool3') (x)\n",
        "\n",
        "x = Conv2D(filters = 128, kernel_size=(3,3), strides=(1,1), activation='relu', padding='same', name = 'conv4') (x)#(input_img)\n",
        "x = MaxPool2D((2,2), padding='same', name = 'maxpool4') (x)\n",
        "\n",
        "\n",
        "x = Flatten( name = 'flatten')(x)\n",
        "\n",
        "x = Dense(32, activation = 'relu', name = 'dense1')(x)\n",
        "\n",
        "out = Dense(1, activation='sigmoid', name = 'dense2')(x)\n",
        "\n",
        "model = Model(inputs=input_img, outputs = out)\n",
        "\n",
        "model.compile(loss = 'binary_crossentropy', optimizer = 'adam', metrics = ['accuracy'])\n",
        "\n",
        "model.summary()\n",
        "\n"
      ],
      "execution_count": 9,
      "outputs": [
        {
          "output_type": "stream",
          "text": [
            "Model: \"model_2\"\n",
            "_________________________________________________________________\n",
            "Layer (type)                 Output Shape              Param #   \n",
            "=================================================================\n",
            "input_4 (InputLayer)         [(None, 128, 128, 3)]     0         \n",
            "_________________________________________________________________\n",
            "conv1 (Conv2D)               (None, 128, 128, 16)      448       \n",
            "_________________________________________________________________\n",
            "maxpool1 (MaxPooling2D)      (None, 64, 64, 16)        0         \n",
            "_________________________________________________________________\n",
            "conv2 (Conv2D)               (None, 64, 64, 32)        4640      \n",
            "_________________________________________________________________\n",
            "maxpool2 (MaxPooling2D)      (None, 32, 32, 32)        0         \n",
            "_________________________________________________________________\n",
            "conv3 (Conv2D)               (None, 32, 32, 64)        18496     \n",
            "_________________________________________________________________\n",
            "maxpool3 (MaxPooling2D)      (None, 16, 16, 64)        0         \n",
            "_________________________________________________________________\n",
            "conv4 (Conv2D)               (None, 16, 16, 128)       73856     \n",
            "_________________________________________________________________\n",
            "maxpool4 (MaxPooling2D)      (None, 8, 8, 128)         0         \n",
            "_________________________________________________________________\n",
            "flatten (Flatten)            (None, 8192)              0         \n",
            "_________________________________________________________________\n",
            "dense1 (Dense)               (None, 32)                262176    \n",
            "_________________________________________________________________\n",
            "dense2 (Dense)               (None, 1)                 33        \n",
            "=================================================================\n",
            "Total params: 359,649\n",
            "Trainable params: 359,649\n",
            "Non-trainable params: 0\n",
            "_________________________________________________________________\n"
          ],
          "name": "stdout"
        }
      ]
    },
    {
      "cell_type": "code",
      "metadata": {
        "id": "V3VRm5UNZbKz"
      },
      "source": [
        ""
      ],
      "execution_count": null,
      "outputs": []
    }
  ]
}